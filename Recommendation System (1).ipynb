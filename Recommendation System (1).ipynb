{
 "cells": [
  {
   "cell_type": "markdown",
   "id": "daaafa95",
   "metadata": {},
   "source": [
    "### Tasks:\n",
    "\n",
    "Data Preprocessing:\n",
    "\n",
    "Load the dataset into a suitable data structure (e.g., pandas DataFrame).\n",
    "Handle missing values, if any.\n",
    "Explore the dataset to understand its structure and attributes.\n",
    "\n",
    "Feature Extraction:\n",
    "\n",
    "Decide on the features that will be used for computing similarity (e.g., genres, user ratings).\n",
    "Convert categorical features into numerical representations if necessary.\n",
    "Normalize numerical features if required.\n",
    "\n",
    "Recommendation System:\n",
    "\n",
    "Design a function to recommend anime based on cosine similarity.\n",
    "Given a target anime, recommend a list of similar anime based on cosine similarity scores.\n",
    "Experiment with different threshold values for similarity scores to adjust the recommendation list size.\n",
    "\n",
    "Evaluation:\n",
    "\n",
    "Split the dataset into training and testing sets.\n",
    "Evaluate the recommendation system using appropriate metrics such as precision, recall, and F1-score.\n",
    "Analyze the performance of the recommendation system and identify areas of improvement.\n"
   ]
  },
  {
   "cell_type": "markdown",
   "id": "e0164ed7",
   "metadata": {},
   "source": [
    "### loading the dataset and exploring its structure."
   ]
  },
  {
   "cell_type": "code",
   "execution_count": 9,
   "id": "f4e57bed",
   "metadata": {
    "collapsed": true
   },
   "outputs": [
    {
     "data": {
      "text/html": [
       "<div>\n",
       "<style scoped>\n",
       "    .dataframe tbody tr th:only-of-type {\n",
       "        vertical-align: middle;\n",
       "    }\n",
       "\n",
       "    .dataframe tbody tr th {\n",
       "        vertical-align: top;\n",
       "    }\n",
       "\n",
       "    .dataframe thead th {\n",
       "        text-align: right;\n",
       "    }\n",
       "</style>\n",
       "<table border=\"1\" class=\"dataframe\">\n",
       "  <thead>\n",
       "    <tr style=\"text-align: right;\">\n",
       "      <th></th>\n",
       "      <th>anime_id</th>\n",
       "      <th>name</th>\n",
       "      <th>genre</th>\n",
       "      <th>type</th>\n",
       "      <th>episodes</th>\n",
       "      <th>rating</th>\n",
       "      <th>members</th>\n",
       "    </tr>\n",
       "  </thead>\n",
       "  <tbody>\n",
       "    <tr>\n",
       "      <th>0</th>\n",
       "      <td>32281</td>\n",
       "      <td>Kimi no Na wa.</td>\n",
       "      <td>Drama, Romance, School, Supernatural</td>\n",
       "      <td>Movie</td>\n",
       "      <td>1</td>\n",
       "      <td>9.37</td>\n",
       "      <td>200630</td>\n",
       "    </tr>\n",
       "    <tr>\n",
       "      <th>1</th>\n",
       "      <td>5114</td>\n",
       "      <td>Fullmetal Alchemist: Brotherhood</td>\n",
       "      <td>Action, Adventure, Drama, Fantasy, Magic, Mili...</td>\n",
       "      <td>TV</td>\n",
       "      <td>64</td>\n",
       "      <td>9.26</td>\n",
       "      <td>793665</td>\n",
       "    </tr>\n",
       "    <tr>\n",
       "      <th>2</th>\n",
       "      <td>28977</td>\n",
       "      <td>Gintama°</td>\n",
       "      <td>Action, Comedy, Historical, Parody, Samurai, S...</td>\n",
       "      <td>TV</td>\n",
       "      <td>51</td>\n",
       "      <td>9.25</td>\n",
       "      <td>114262</td>\n",
       "    </tr>\n",
       "    <tr>\n",
       "      <th>3</th>\n",
       "      <td>9253</td>\n",
       "      <td>Steins;Gate</td>\n",
       "      <td>Sci-Fi, Thriller</td>\n",
       "      <td>TV</td>\n",
       "      <td>24</td>\n",
       "      <td>9.17</td>\n",
       "      <td>673572</td>\n",
       "    </tr>\n",
       "    <tr>\n",
       "      <th>4</th>\n",
       "      <td>9969</td>\n",
       "      <td>Gintama&amp;#039;</td>\n",
       "      <td>Action, Comedy, Historical, Parody, Samurai, S...</td>\n",
       "      <td>TV</td>\n",
       "      <td>51</td>\n",
       "      <td>9.16</td>\n",
       "      <td>151266</td>\n",
       "    </tr>\n",
       "  </tbody>\n",
       "</table>\n",
       "</div>"
      ],
      "text/plain": [
       "   anime_id                              name  \\\n",
       "0     32281                    Kimi no Na wa.   \n",
       "1      5114  Fullmetal Alchemist: Brotherhood   \n",
       "2     28977                          Gintama°   \n",
       "3      9253                       Steins;Gate   \n",
       "4      9969                     Gintama&#039;   \n",
       "\n",
       "                                               genre   type episodes  rating  \\\n",
       "0               Drama, Romance, School, Supernatural  Movie        1    9.37   \n",
       "1  Action, Adventure, Drama, Fantasy, Magic, Mili...     TV       64    9.26   \n",
       "2  Action, Comedy, Historical, Parody, Samurai, S...     TV       51    9.25   \n",
       "3                                   Sci-Fi, Thriller     TV       24    9.17   \n",
       "4  Action, Comedy, Historical, Parody, Samurai, S...     TV       51    9.16   \n",
       "\n",
       "   members  \n",
       "0   200630  \n",
       "1   793665  \n",
       "2   114262  \n",
       "3   673572  \n",
       "4   151266  "
      ]
     },
     "execution_count": 9,
     "metadata": {},
     "output_type": "execute_result"
    }
   ],
   "source": [
    "import pandas as pd\n",
    "\n",
    "# Load the dataset\n",
    "anime_df = pd.read_csv(r\"C:\\Users\\Dell\\Downloads\\anime.csv\")\n",
    "\n",
    "# Display the first few rows of the dataset\n",
    "anime_df.head()\n"
   ]
  },
  {
   "cell_type": "code",
   "execution_count": 20,
   "id": "174e0a8b",
   "metadata": {},
   "outputs": [
    {
     "data": {
      "text/plain": [
       "12294"
      ]
     },
     "execution_count": 20,
     "metadata": {},
     "output_type": "execute_result"
    }
   ],
   "source": [
    "#number of unique users in dataset\n",
    "len(anime_df.anime_id.unique())"
   ]
  },
  {
   "cell_type": "code",
   "execution_count": 23,
   "id": "806ec820",
   "metadata": {},
   "outputs": [
    {
     "data": {
      "text/plain": [
       "(12294, 7)"
      ]
     },
     "execution_count": 23,
     "metadata": {},
     "output_type": "execute_result"
    }
   ],
   "source": [
    "anime_df.shape"
   ]
  },
  {
   "cell_type": "code",
   "execution_count": 22,
   "id": "7b20d54a",
   "metadata": {
    "collapsed": true
   },
   "outputs": [
    {
     "data": {
      "text/plain": [
       "count    12294.000000\n",
       "mean         0.576699\n",
       "std          0.122100\n",
       "min          0.000000\n",
       "25%          0.507803\n",
       "50%          0.585834\n",
       "75%          0.660264\n",
       "max          1.000000\n",
       "Name: rating, dtype: float64"
      ]
     },
     "execution_count": 22,
     "metadata": {},
     "output_type": "execute_result"
    }
   ],
   "source": [
    "anime_df['rating'].describe()"
   ]
  },
  {
   "cell_type": "code",
   "execution_count": 10,
   "id": "a9ddc2c4",
   "metadata": {
    "collapsed": true
   },
   "outputs": [
    {
     "data": {
      "text/plain": [
       "<bound method NDFrame.describe of        anime_id                                               name  \\\n",
       "0         32281                                     Kimi no Na wa.   \n",
       "1          5114                   Fullmetal Alchemist: Brotherhood   \n",
       "2         28977                                           Gintama°   \n",
       "3          9253                                        Steins;Gate   \n",
       "4          9969                                      Gintama&#039;   \n",
       "...         ...                                                ...   \n",
       "12289      9316       Toushindai My Lover: Minami tai Mecha-Minami   \n",
       "12290      5543                                        Under World   \n",
       "12291      5621                     Violence Gekiga David no Hoshi   \n",
       "12292      6133  Violence Gekiga Shin David no Hoshi: Inma Dens...   \n",
       "12293     26081                   Yasuji no Pornorama: Yacchimae!!   \n",
       "\n",
       "                                                   genre   type episodes  \\\n",
       "0                   Drama, Romance, School, Supernatural  Movie        1   \n",
       "1      Action, Adventure, Drama, Fantasy, Magic, Mili...     TV       64   \n",
       "2      Action, Comedy, Historical, Parody, Samurai, S...     TV       51   \n",
       "3                                       Sci-Fi, Thriller     TV       24   \n",
       "4      Action, Comedy, Historical, Parody, Samurai, S...     TV       51   \n",
       "...                                                  ...    ...      ...   \n",
       "12289                                             Hentai    OVA        1   \n",
       "12290                                             Hentai    OVA        1   \n",
       "12291                                             Hentai    OVA        4   \n",
       "12292                                             Hentai    OVA        1   \n",
       "12293                                             Hentai  Movie        1   \n",
       "\n",
       "       rating  members  \n",
       "0        9.37   200630  \n",
       "1        9.26   793665  \n",
       "2        9.25   114262  \n",
       "3        9.17   673572  \n",
       "4        9.16   151266  \n",
       "...       ...      ...  \n",
       "12289    4.15      211  \n",
       "12290    4.28      183  \n",
       "12291    4.88      219  \n",
       "12292    4.98      175  \n",
       "12293    5.46      142  \n",
       "\n",
       "[12294 rows x 7 columns]>"
      ]
     },
     "execution_count": 10,
     "metadata": {},
     "output_type": "execute_result"
    }
   ],
   "source": [
    "anime_df.describe"
   ]
  },
  {
   "cell_type": "code",
   "execution_count": 30,
   "id": "b1c959ff",
   "metadata": {
    "collapsed": true
   },
   "outputs": [
    {
     "data": {
      "text/plain": [
       "<Axes: >"
      ]
     },
     "execution_count": 30,
     "metadata": {},
     "output_type": "execute_result"
    },
    {
     "data": {
      "image/png": "[encoded data removed]",
      "text/plain": [
       "<Figure size 640x480 with 1 Axes>"
      ]
     },
     "metadata": {},
     "output_type": "display_data"
    }
   ],
   "source": [
    "anime_df['rating'].plot(kind='bar')"
   ]
  },
  {
   "cell_type": "code",
   "execution_count": 31,
   "id": "9a958a3b",
   "metadata": {
    "collapsed": true
   },
   "outputs": [
    {
     "data": {
      "text/plain": [
       "<Axes: ylabel='Frequency'>"
      ]
     },
     "execution_count": 31,
     "metadata": {},
     "output_type": "execute_result"
    },
    {
     "data": {
      "image/png": "[encoded data removed]",
      "text/plain": [
       "<Figure size 640x480 with 1 Axes>"
      ]
     },
     "metadata": {},
     "output_type": "display_data"
    }
   ],
   "source": [
    "anime_df['rating'].plot(kind='hist')"
   ]
  },
  {
   "cell_type": "markdown",
   "id": "cae78dc4",
   "metadata": {},
   "source": [
    "### Data Preprocessing\n",
    "Handling Missing Values"
   ]
  },
  {
   "cell_type": "code",
   "execution_count": 12,
   "id": "d0180756",
   "metadata": {
    "collapsed": true
   },
   "outputs": [
    {
     "name": "stdout",
     "output_type": "stream",
     "text": [
      "<class 'pandas.core.frame.DataFrame'>\n",
      "RangeIndex: 12294 entries, 0 to 12293\n",
      "Data columns (total 7 columns):\n",
      " #   Column    Non-Null Count  Dtype  \n",
      "---  ------    --------------  -----  \n",
      " 0   anime_id  12294 non-null  int64  \n",
      " 1   name      12294 non-null  object \n",
      " 2   genre     12294 non-null  object \n",
      " 3   type      12294 non-null  object \n",
      " 4   episodes  12294 non-null  object \n",
      " 5   rating    12294 non-null  float64\n",
      " 6   members   12294 non-null  int64  \n",
      "dtypes: float64(1), int64(2), object(4)\n",
      "memory usage: 672.5+ KB\n"
     ]
    }
   ],
   "source": [
    "# Handle missing values\n",
    "anime_df['genre'].fillna('Unknown', inplace=True)\n",
    "anime_df['type'].fillna('Unknown', inplace=True)\n",
    "anime_df['rating'].fillna(anime_df['rating'].mean(), inplace=True)\n",
    "\n",
    "# Verify no missing values left\n",
    "anime_df.info()\n"
   ]
  },
  {
   "cell_type": "markdown",
   "id": "3f8ebb62",
   "metadata": {},
   "source": [
    "#### Feature Extraction\n",
    "For genre, we'll create a binary representation (one-hot encoding). For rating and members, we'll normalize them."
   ]
  },
  {
   "cell_type": "code",
   "execution_count": 13,
   "id": "767c3ca1",
   "metadata": {
    "collapsed": true
   },
   "outputs": [
    {
     "data": {
      "text/html": [
       "<div>\n",
       "<style scoped>\n",
       "    .dataframe tbody tr th:only-of-type {\n",
       "        vertical-align: middle;\n",
       "    }\n",
       "\n",
       "    .dataframe tbody tr th {\n",
       "        vertical-align: top;\n",
       "    }\n",
       "\n",
       "    .dataframe thead th {\n",
       "        text-align: right;\n",
       "    }\n",
       "</style>\n",
       "<table border=\"1\" class=\"dataframe\">\n",
       "  <thead>\n",
       "    <tr style=\"text-align: right;\">\n",
       "      <th></th>\n",
       "      <th>Action</th>\n",
       "      <th>Adventure</th>\n",
       "      <th>Cars</th>\n",
       "      <th>Comedy</th>\n",
       "      <th>Dementia</th>\n",
       "      <th>Demons</th>\n",
       "      <th>Drama</th>\n",
       "      <th>Ecchi</th>\n",
       "      <th>Fantasy</th>\n",
       "      <th>Game</th>\n",
       "      <th>...</th>\n",
       "      <th>Sports</th>\n",
       "      <th>Super Power</th>\n",
       "      <th>Supernatural</th>\n",
       "      <th>Thriller</th>\n",
       "      <th>Unknown</th>\n",
       "      <th>Vampire</th>\n",
       "      <th>Yaoi</th>\n",
       "      <th>Yuri</th>\n",
       "      <th>rating</th>\n",
       "      <th>members</th>\n",
       "    </tr>\n",
       "  </thead>\n",
       "  <tbody>\n",
       "    <tr>\n",
       "      <th>0</th>\n",
       "      <td>0</td>\n",
       "      <td>0</td>\n",
       "      <td>0</td>\n",
       "      <td>0</td>\n",
       "      <td>0</td>\n",
       "      <td>0</td>\n",
       "      <td>1</td>\n",
       "      <td>0</td>\n",
       "      <td>0</td>\n",
       "      <td>0</td>\n",
       "      <td>...</td>\n",
       "      <td>0</td>\n",
       "      <td>0</td>\n",
       "      <td>1</td>\n",
       "      <td>0</td>\n",
       "      <td>0</td>\n",
       "      <td>0</td>\n",
       "      <td>0</td>\n",
       "      <td>0</td>\n",
       "      <td>0.924370</td>\n",
       "      <td>0.197872</td>\n",
       "    </tr>\n",
       "    <tr>\n",
       "      <th>1</th>\n",
       "      <td>1</td>\n",
       "      <td>1</td>\n",
       "      <td>0</td>\n",
       "      <td>0</td>\n",
       "      <td>0</td>\n",
       "      <td>0</td>\n",
       "      <td>1</td>\n",
       "      <td>0</td>\n",
       "      <td>1</td>\n",
       "      <td>0</td>\n",
       "      <td>...</td>\n",
       "      <td>0</td>\n",
       "      <td>0</td>\n",
       "      <td>0</td>\n",
       "      <td>0</td>\n",
       "      <td>0</td>\n",
       "      <td>0</td>\n",
       "      <td>0</td>\n",
       "      <td>0</td>\n",
       "      <td>0.911164</td>\n",
       "      <td>0.782770</td>\n",
       "    </tr>\n",
       "    <tr>\n",
       "      <th>2</th>\n",
       "      <td>1</td>\n",
       "      <td>0</td>\n",
       "      <td>0</td>\n",
       "      <td>1</td>\n",
       "      <td>0</td>\n",
       "      <td>0</td>\n",
       "      <td>0</td>\n",
       "      <td>0</td>\n",
       "      <td>0</td>\n",
       "      <td>0</td>\n",
       "      <td>...</td>\n",
       "      <td>0</td>\n",
       "      <td>0</td>\n",
       "      <td>0</td>\n",
       "      <td>0</td>\n",
       "      <td>0</td>\n",
       "      <td>0</td>\n",
       "      <td>0</td>\n",
       "      <td>0</td>\n",
       "      <td>0.909964</td>\n",
       "      <td>0.112689</td>\n",
       "    </tr>\n",
       "    <tr>\n",
       "      <th>3</th>\n",
       "      <td>0</td>\n",
       "      <td>0</td>\n",
       "      <td>0</td>\n",
       "      <td>0</td>\n",
       "      <td>0</td>\n",
       "      <td>0</td>\n",
       "      <td>0</td>\n",
       "      <td>0</td>\n",
       "      <td>0</td>\n",
       "      <td>0</td>\n",
       "      <td>...</td>\n",
       "      <td>0</td>\n",
       "      <td>0</td>\n",
       "      <td>0</td>\n",
       "      <td>1</td>\n",
       "      <td>0</td>\n",
       "      <td>0</td>\n",
       "      <td>0</td>\n",
       "      <td>0</td>\n",
       "      <td>0.900360</td>\n",
       "      <td>0.664325</td>\n",
       "    </tr>\n",
       "    <tr>\n",
       "      <th>4</th>\n",
       "      <td>1</td>\n",
       "      <td>0</td>\n",
       "      <td>0</td>\n",
       "      <td>1</td>\n",
       "      <td>0</td>\n",
       "      <td>0</td>\n",
       "      <td>0</td>\n",
       "      <td>0</td>\n",
       "      <td>0</td>\n",
       "      <td>0</td>\n",
       "      <td>...</td>\n",
       "      <td>0</td>\n",
       "      <td>0</td>\n",
       "      <td>0</td>\n",
       "      <td>0</td>\n",
       "      <td>0</td>\n",
       "      <td>0</td>\n",
       "      <td>0</td>\n",
       "      <td>0</td>\n",
       "      <td>0.899160</td>\n",
       "      <td>0.149186</td>\n",
       "    </tr>\n",
       "  </tbody>\n",
       "</table>\n",
       "<p>5 rows × 46 columns</p>\n",
       "</div>"
      ],
      "text/plain": [
       "   Action  Adventure  Cars  Comedy  Dementia  Demons  Drama  Ecchi  Fantasy  \\\n",
       "0       0          0     0       0         0       0      1      0        0   \n",
       "1       1          1     0       0         0       0      1      0        1   \n",
       "2       1          0     0       1         0       0      0      0        0   \n",
       "3       0          0     0       0         0       0      0      0        0   \n",
       "4       1          0     0       1         0       0      0      0        0   \n",
       "\n",
       "   Game  ...  Sports  Super Power  Supernatural  Thriller  Unknown  Vampire  \\\n",
       "0     0  ...       0            0             1         0        0        0   \n",
       "1     0  ...       0            0             0         0        0        0   \n",
       "2     0  ...       0            0             0         0        0        0   \n",
       "3     0  ...       0            0             0         1        0        0   \n",
       "4     0  ...       0            0             0         0        0        0   \n",
       "\n",
       "   Yaoi  Yuri    rating   members  \n",
       "0     0     0  0.924370  0.197872  \n",
       "1     0     0  0.911164  0.782770  \n",
       "2     0     0  0.909964  0.112689  \n",
       "3     0     0  0.900360  0.664325  \n",
       "4     0     0  0.899160  0.149186  \n",
       "\n",
       "[5 rows x 46 columns]"
      ]
     },
     "execution_count": 13,
     "metadata": {},
     "output_type": "execute_result"
    }
   ],
   "source": [
    "from sklearn.preprocessing import OneHotEncoder, MinMaxScaler\n",
    "\n",
    "# One-hot encode genres\n",
    "genre_onehot = anime_df['genre'].str.get_dummies(sep=', ')\n",
    "\n",
    "# Normalize rating and members\n",
    "scaler = MinMaxScaler()\n",
    "anime_df[['rating', 'members']] = scaler.fit_transform(anime_df[['rating', 'members']])\n",
    "\n",
    "# Combine all features into a single DataFrame\n",
    "features = pd.concat([genre_onehot, anime_df[['rating', 'members']]], axis=1)\n",
    "\n",
    "features.head()\n"
   ]
  },
  {
   "cell_type": "markdown",
   "id": "946c2810",
   "metadata": {},
   "source": [
    "#### Building the Recommendation System\n",
    "We'll now build the recommendation system using cosine similarity.\n",
    "\n",
    "Compute Cosine Similarity: Using the feature matrix.\n",
    "Recommend Anime: Based on the similarity scores.\n",
    "Let's define the function to recommend anime based on cosine similarity."
   ]
  },
  {
   "cell_type": "code",
   "execution_count": 16,
   "id": "d5328126",
   "metadata": {},
   "outputs": [],
   "source": [
    "from sklearn.metrics.pairwise import cosine_similarity\n",
    "\n",
    "# Compute the cosine similarity matrix\n",
    "cosine_sim = cosine_similarity(features, features)\n",
    "\n",
    "def get_recommendations(title, anime_df, cosine_sim):\n",
    "    # Get the index of the anime that matches the title\n",
    "    idx = anime_df[anime_df['name'] == title].index[0]\n",
    "\n",
    "    # Get the pairwise similarity scores of all animes with that anime\n",
    "    sim_scores = list(enumerate(cosine_sim[idx]))\n",
    "\n",
    "    # Sort the animes based on the similarity scores\n",
    "    sim_scores = sorted(sim_scores, key=lambda x: x[1], reverse=True)\n",
    "\n",
    "    # Get the scores of the 10 most similar animes\n",
    "    sim_scores = sim_scores[1:11]\n",
    "\n",
    "    # Get the anime indices\n",
    "    anime_indices = [i[0] for i in sim_scores]\n",
    "\n",
    "    # Return the top 10 most similar animes\n",
    "    return anime_df.iloc[anime_indices][['name', 'rating', 'members']]\n",
    "\n"
   ]
  },
  {
   "cell_type": "code",
   "execution_count": 17,
   "id": "19b652c0",
   "metadata": {},
   "outputs": [
    {
     "data": {
      "text/html": [
       "<div>\n",
       "<style scoped>\n",
       "    .dataframe tbody tr th:only-of-type {\n",
       "        vertical-align: middle;\n",
       "    }\n",
       "\n",
       "    .dataframe tbody tr th {\n",
       "        vertical-align: top;\n",
       "    }\n",
       "\n",
       "    .dataframe thead th {\n",
       "        text-align: right;\n",
       "    }\n",
       "</style>\n",
       "<table border=\"1\" class=\"dataframe\">\n",
       "  <thead>\n",
       "    <tr style=\"text-align: right;\">\n",
       "      <th></th>\n",
       "      <th>name</th>\n",
       "      <th>rating</th>\n",
       "      <th>members</th>\n",
       "    </tr>\n",
       "  </thead>\n",
       "  <tbody>\n",
       "    <tr>\n",
       "      <th>5805</th>\n",
       "      <td>Wind: A Breath of Heart OVA</td>\n",
       "      <td>0.561825</td>\n",
       "      <td>0.002010</td>\n",
       "    </tr>\n",
       "    <tr>\n",
       "      <th>6394</th>\n",
       "      <td>Wind: A Breath of Heart (TV)</td>\n",
       "      <td>0.536615</td>\n",
       "      <td>0.007666</td>\n",
       "    </tr>\n",
       "    <tr>\n",
       "      <th>1111</th>\n",
       "      <td>Aura: Maryuuin Kouga Saigo no Tatakai</td>\n",
       "      <td>0.720288</td>\n",
       "      <td>0.022284</td>\n",
       "    </tr>\n",
       "    <tr>\n",
       "      <th>504</th>\n",
       "      <td>Clannad: After Story - Mou Hitotsu no Sekai, K...</td>\n",
       "      <td>0.762305</td>\n",
       "      <td>0.136461</td>\n",
       "    </tr>\n",
       "    <tr>\n",
       "      <th>208</th>\n",
       "      <td>Kokoro ga Sakebitagatterunda.</td>\n",
       "      <td>0.798319</td>\n",
       "      <td>0.058829</td>\n",
       "    </tr>\n",
       "    <tr>\n",
       "      <th>1201</th>\n",
       "      <td>Angel Beats!: Another Epilogue</td>\n",
       "      <td>0.715486</td>\n",
       "      <td>0.132334</td>\n",
       "    </tr>\n",
       "    <tr>\n",
       "      <th>1435</th>\n",
       "      <td>True Tears</td>\n",
       "      <td>0.705882</td>\n",
       "      <td>0.117011</td>\n",
       "    </tr>\n",
       "    <tr>\n",
       "      <th>1907</th>\n",
       "      <td>Myself; Yourself</td>\n",
       "      <td>0.689076</td>\n",
       "      <td>0.113491</td>\n",
       "    </tr>\n",
       "    <tr>\n",
       "      <th>1631</th>\n",
       "      <td>Kimikiss Pure Rouge</td>\n",
       "      <td>0.697479</td>\n",
       "      <td>0.057407</td>\n",
       "    </tr>\n",
       "    <tr>\n",
       "      <th>2300</th>\n",
       "      <td>Koi to Senkyo to Chocolate</td>\n",
       "      <td>0.675870</td>\n",
       "      <td>0.090291</td>\n",
       "    </tr>\n",
       "  </tbody>\n",
       "</table>\n",
       "</div>"
      ],
      "text/plain": [
       "                                                   name    rating   members\n",
       "5805                        Wind: A Breath of Heart OVA  0.561825  0.002010\n",
       "6394                       Wind: A Breath of Heart (TV)  0.536615  0.007666\n",
       "1111              Aura: Maryuuin Kouga Saigo no Tatakai  0.720288  0.022284\n",
       "504   Clannad: After Story - Mou Hitotsu no Sekai, K...  0.762305  0.136461\n",
       "208                       Kokoro ga Sakebitagatterunda.  0.798319  0.058829\n",
       "1201                     Angel Beats!: Another Epilogue  0.715486  0.132334\n",
       "1435                                         True Tears  0.705882  0.117011\n",
       "1907                                   Myself; Yourself  0.689076  0.113491\n",
       "1631                                Kimikiss Pure Rouge  0.697479  0.057407\n",
       "2300                         Koi to Senkyo to Chocolate  0.675870  0.090291"
      ]
     },
     "execution_count": 17,
     "metadata": {},
     "output_type": "execute_result"
    }
   ],
   "source": [
    "# Example usage\n",
    "get_recommendations('Kimi no Na wa.', anime_df, cosine_sim)\n"
   ]
  },
  {
   "cell_type": "markdown",
   "id": "d7ed2bf9",
   "metadata": {},
   "source": [
    "### Interview Questions:\n"
   ]
  },
  {
   "cell_type": "raw",
   "id": "a0045bc9",
   "metadata": {},
   "source": [
    "1. Can you explain the difference between user-based and item-based collaborative filtering?\n",
    "Ans: User-Based Collaborative Filtering: This method finds people who have similar tastes to you. If someone else likes the same movies you do, their other favorite movies might be great for you to watch too. So, it’s like finding friends who have similar preferences and seeing what they enjoy.\n",
    "\n",
    "Item-Based Collaborative Filtering: This method looks at the movies themselves. It finds movies that are similar to the ones you already like. For example, if you love “Inception,” it will suggest other movies that are similar to “Inception” based on what people who liked “Inception” also liked."
   ]
  },
  {
   "cell_type": "raw",
   "id": "63dfc37f",
   "metadata": {},
   "source": [
    "2. What is collaborative filtering, and how does it work?\n",
    "Ans: Collaborative filtering is a technique used to recommend items, such as movies or products, based on the preferences and behaviors of many users.\n",
    "Here’s a simple breakdown of how it works:\n",
    "                Data Collection: Collect data on user preferences, such as ratings for movies or products.\n",
    "\n",
    "                Identify Similarities: Find patterns or similarities in the preferences of users. There are two main approaches:\n",
    "\n",
    "                User-Based: Identify users who have similar preferences to you and recommend items they liked.\n",
    "                Item-Based: Find items similar to ones you’ve liked before and recommend those.\n",
    "                Generate Recommendations: Use these patterns to suggest new items that other users with similar tastes have enjoyed or that are similar to things you already like.    "
   ]
  },
  {
   "cell_type": "code",
   "execution_count": null,
   "id": "ac95a6c7",
   "metadata": {},
   "outputs": [],
   "source": []
  }
 ],
 "metadata": {
  "kernelspec": {
   "display_name": "Python 3 (ipykernel)",
   "language": "python",
   "name": "python3"
  },
  "language_info": {
   "codemirror_mode": {
    "name": "ipython",
    "version": 3
   },
   "file_extension": ".py",
   "mimetype": "text/x-python",
   "name": "python",
   "nbconvert_exporter": "python",
   "pygments_lexer": "ipython3",
   "version": "3.11.7"
  }
 },
 "nbformat": 4,
 "nbformat_minor": 5
}

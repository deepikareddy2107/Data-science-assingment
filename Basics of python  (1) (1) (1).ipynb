{
 "cells": [
  {
   "cell_type": "markdown",
   "id": "9e4f0b58",
   "metadata": {},
   "source": [
    "# basics of python "
   ]
  },
  {
   "cell_type": "code",
   "execution_count": 1,
   "id": "b8ab0d21",
   "metadata": {},
   "outputs": [],
   "source": [
    "#  Exercise 1: Prime Numbers"
   ]
  },
  {
   "cell_type": "markdown",
   "id": "82eb6d66",
   "metadata": {},
   "source": [
    "####  Write a Python program that checks whether a given number is prime or not. A prime number is a natural number greater than 1 that has no positive divisors other than 1 and itself."
   ]
  },
  {
   "cell_type": "code",
   "execution_count": 2,
   "id": "ba196bbb",
   "metadata": {},
   "outputs": [
    {
     "name": "stdout",
     "output_type": "stream",
     "text": [
      "enter number5\n",
      "5 is prime\n"
     ]
    }
   ],
   "source": [
    "n=int(input(\"enter number\"))\n",
    "\n",
    "for i in range(2,n):\n",
    "    if n%i ==0:\n",
    "        print(n,\"is not a prime\")\n",
    "        break\n",
    "else:\n",
    "    print(n,\"is prime\")"
   ]
  },
  {
   "cell_type": "code",
   "execution_count": 3,
   "id": "3a1e0b46",
   "metadata": {},
   "outputs": [],
   "source": [
    "# Exercise 2: Product of Random Numbers"
   ]
  },
  {
   "cell_type": "markdown",
   "id": "8faf810b",
   "metadata": {},
   "source": [
    "#### Develop a Python program that generates two random numbers and asks the user to enter the product of these numbers. The program should then check if the user's answer is correct and display an appropriate message."
   ]
  },
  {
   "cell_type": "code",
   "execution_count": 4,
   "id": "e28a6371",
   "metadata": {},
   "outputs": [
    {
     "name": "stdout",
     "output_type": "stream",
     "text": [
      "What is the product of 6 and 10? 60\n",
      "Congratulations! Your answer is correct.\n"
     ]
    }
   ],
   "source": [
    "import random\n",
    "\n",
    "# Generate two random numbers between 1 and 10\n",
    "num1 = random.randint(1, 10)\n",
    "num2 = random.randint(1, 10)\n",
    "\n",
    "user_answer = int(input(f\"What is the product of {num1} and {num2}? \"))\n",
    "\n",
    "if user_answer == num1 * num2:\n",
    "    print(\"Congratulations! Your answer is correct.\")\n",
    "else:\n",
    "    print(\"Incorrect answer. The correct answer is:\", num1 * num2)"
   ]
  },
  {
   "cell_type": "code",
   "execution_count": 5,
   "id": "177a4f34",
   "metadata": {},
   "outputs": [],
   "source": [
    "# Exercise 3:Squares of Even/Odd Numbers"
   ]
  },
  {
   "cell_type": "markdown",
   "id": "0762e368",
   "metadata": {},
   "source": [
    "##### Create a Python script that prints the squares of all even or odd numbers within the range of 100 to 200. Choose either even or odd numbers and document your choice in the code."
   ]
  },
  {
   "cell_type": "code",
   "execution_count": 6,
   "id": "baaf42a9",
   "metadata": {
    "collapsed": true
   },
   "outputs": [
    {
     "name": "stdout",
     "output_type": "stream",
     "text": [
      "The square of 100 is 10000\n",
      "The square of 102 is 10404\n",
      "The square of 104 is 10816\n",
      "The square of 106 is 11236\n",
      "The square of 108 is 11664\n",
      "The square of 110 is 12100\n",
      "The square of 112 is 12544\n",
      "The square of 114 is 12996\n",
      "The square of 116 is 13456\n",
      "The square of 118 is 13924\n",
      "The square of 120 is 14400\n",
      "The square of 122 is 14884\n",
      "The square of 124 is 15376\n",
      "The square of 126 is 15876\n",
      "The square of 128 is 16384\n",
      "The square of 130 is 16900\n",
      "The square of 132 is 17424\n",
      "The square of 134 is 17956\n",
      "The square of 136 is 18496\n",
      "The square of 138 is 19044\n",
      "The square of 140 is 19600\n",
      "The square of 142 is 20164\n",
      "The square of 144 is 20736\n",
      "The square of 146 is 21316\n",
      "The square of 148 is 21904\n",
      "The square of 150 is 22500\n",
      "The square of 152 is 23104\n",
      "The square of 154 is 23716\n",
      "The square of 156 is 24336\n",
      "The square of 158 is 24964\n",
      "The square of 160 is 25600\n",
      "The square of 162 is 26244\n",
      "The square of 164 is 26896\n",
      "The square of 166 is 27556\n",
      "The square of 168 is 28224\n",
      "The square of 170 is 28900\n",
      "The square of 172 is 29584\n",
      "The square of 174 is 30276\n",
      "The square of 176 is 30976\n",
      "The square of 178 is 31684\n",
      "The square of 180 is 32400\n",
      "The square of 182 is 33124\n",
      "The square of 184 is 33856\n",
      "The square of 186 is 34596\n",
      "The square of 188 is 35344\n",
      "The square of 190 is 36100\n",
      "The square of 192 is 36864\n",
      "The square of 194 is 37636\n",
      "The square of 196 is 38416\n",
      "The square of 198 is 39204\n",
      "The square of 200 is 40000\n"
     ]
    }
   ],
   "source": [
    "for num in range(100, 201): \n",
    "    if num % 2 == 0:  \n",
    "        print(f\"The square of {num} is {num**2}\")"
   ]
  },
  {
   "cell_type": "code",
   "execution_count": null,
   "id": "039bbc30",
   "metadata": {},
   "outputs": [],
   "source": [
    "# Exercise 4: Word counter"
   ]
  },
  {
   "cell_type": "markdown",
   "id": "fd94356b",
   "metadata": {},
   "source": [
    "#### write a program to count the number of words in a given text."
   ]
  },
  {
   "cell_type": "code",
   "execution_count": null,
   "id": "ff0983c7",
   "metadata": {},
   "outputs": [],
   "source": [
    "input_text = \"This is a sample text. This text will be used to demonstrate the word counter.\"\n",
    "\n",
    "word_count = len(input_text.split())\n",
    "print(\"Number of words:\", word_count)\n"
   ]
  },
  {
   "cell_type": "code",
   "execution_count": null,
   "id": "80b26052",
   "metadata": {},
   "outputs": [],
   "source": [
    "# Exercise 5: Check for Palindrome"
   ]
  },
  {
   "cell_type": "markdown",
   "id": "5fc56655",
   "metadata": {},
   "source": [
    "##### Write a Python function called is_palindrome that takes a string as input and returns True if the string is a palindrome, and False otherwise. A palindrome is a word, phrase, number, or other sequence of characters that reads the same forward and backward, ignoring spaces, punctuation, and capitalization."
   ]
  },
  {
   "cell_type": "code",
   "execution_count": null,
   "id": "ea53b460",
   "metadata": {},
   "outputs": [],
   "source": [
    "import string\n",
    "\n",
    "def is_palindrome(input_string):\n",
    "    cleaned_string = ''.join(char.lower() for char in input_string if char.isalnum())\n",
    "    \n",
    "    return cleaned_string == cleaned_string[::-1]\n",
    "\n",
    "print(is_palindrome(\"A man, a plan, a canal, Panama\"))  \n",
    "print(is_palindrome(\"Hello, World!\"))  "
   ]
  },
  {
   "cell_type": "code",
   "execution_count": null,
   "id": "2212ff0e",
   "metadata": {},
   "outputs": [],
   "source": []
  }
 ],
 "metadata": {
  "kernelspec": {
   "display_name": "Python 3 (ipykernel)",
   "language": "python",
   "name": "python3"
  },
  "language_info": {
   "codemirror_mode": {
    "name": "ipython",
    "version": 3
   },
   "file_extension": ".py",
   "mimetype": "text/x-python",
   "name": "python",
   "nbconvert_exporter": "python",
   "pygments_lexer": "ipython3",
   "version": "3.11.7"
  }
 },
 "nbformat": 4,
 "nbformat_minor": 5
}
